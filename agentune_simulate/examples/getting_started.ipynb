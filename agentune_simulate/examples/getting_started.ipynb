{
 "cells": [
  {
   "metadata": {},
   "cell_type": "markdown",
   "source": [
    "# Getting Started with Agentune Simulate - Quick Start\n",
    "\n",
    "This notebook provides a streamlined introduction to the Agentune Simulate library. You'll learn to:\n",
    "\n",
    "- Load conversation data and extract outcomes\n",
    "- Set up RAG-based simulation with in-memory vector store\n",
    "- Run simulations and analyze results\n",
    "\n",
    "**Note**: This is a simplified version. For persistent storage and production features, see `persistent_storage_example.ipynb`."
   ],
   "id": "3b56a7f050e74e1c"
  },
  {
   "metadata": {},
   "cell_type": "markdown",
   "source": "## Setup and Imports",
   "id": "c5dded46ebf63cbb"
  },
  {
   "metadata": {
    "ExecuteTime": {
     "end_time": "2025-07-24T09:33:51.520439Z",
     "start_time": "2025-07-24T09:33:50.579564Z"
    }
   },
   "cell_type": "code",
   "source": [
    "import os\n",
    "import getpass\n",
    "from langchain_core.vectorstores import InMemoryVectorStore\n",
    "from langchain_openai import ChatOpenAI, OpenAIEmbeddings\n",
    "\n",
    "from agentune.simulate.models import Outcomes\n",
    "from agentune.simulate.rag import conversations_to_langchain_documents\n",
    "from agentune.simulate.simulation.session_builder import SimulationSessionBuilder\n",
    "from utils import setup_logging_and_asyncio, load_data_with_outcomes"
   ],
   "id": "bd246a309270975d",
   "outputs": [],
   "execution_count": 1
  },
  {
   "metadata": {},
   "cell_type": "markdown",
   "source": "## API Key Configuration",
   "id": "a8df6f7fe2baca8c"
  },
  {
   "metadata": {
    "ExecuteTime": {
     "end_time": "2025-07-24T09:33:53.751858Z",
     "start_time": "2025-07-24T09:33:51.602934Z"
    }
   },
   "cell_type": "code",
   "source": [
    "# Set up OpenAI API key\n",
    "if not os.getenv(\"OPENAI_API_KEY\"):\n",
    "    os.environ[\"OPENAI_API_KEY\"] = getpass.getpass(\"Enter your OpenAI API key: \")\n",
    "\n",
    "print(\"✓ API key configured\")"
   ],
   "id": "9ba274b7835ecb11",
   "outputs": [
    {
     "name": "stdout",
     "output_type": "stream",
     "text": [
      "✓ API key configured\n"
     ]
    }
   ],
   "execution_count": 2
  },
  {
   "metadata": {},
   "cell_type": "markdown",
   "source": "## Environment Setup",
   "id": "d550f89d948ce7d9"
  },
  {
   "metadata": {
    "ExecuteTime": {
     "end_time": "2025-07-24T09:33:54.750816Z",
     "start_time": "2025-07-24T09:33:54.747873Z"
    }
   },
   "cell_type": "code",
   "source": [
    "# Configure logging and asyncio for Jupyter\n",
    "setup_logging_and_asyncio()"
   ],
   "id": "390a21b0f2f61bc3",
   "outputs": [
    {
     "name": "stdout",
     "output_type": "stream",
     "text": [
      "✓ Logging configured\n",
      "✓ Asyncio event loop configured for Jupyter\n"
     ]
    }
   ],
   "execution_count": 3
  },
  {
   "metadata": {},
   "cell_type": "markdown",
   "source": "## Load Data and Extract Outcomes",
   "id": "7b0efc2109f9a12c"
  },
  {
   "metadata": {
    "ExecuteTime": {
     "end_time": "2025-07-24T09:33:55.570393Z",
     "start_time": "2025-07-24T09:33:55.426615Z"
    }
   },
   "cell_type": "code",
   "source": [
    "# Load conversations and extract outcomes in one step\n",
    "conversations, outcomes_tuple = load_data_with_outcomes(\"data/sample_conversations.csv\")\n",
    "outcomes = Outcomes(outcomes=outcomes_tuple)"
   ],
   "id": "c9248c937a5fdf38",
   "outputs": [
    {
     "name": "stdout",
     "output_type": "stream",
     "text": [
      "Loading conversations from data/sample_conversations.csv...\n",
      "✓ Loaded 50 conversations\n",
      "✓ Sample conversation has 16 messages\n",
      "✓ Extracted 2 unique outcomes\n",
      "  - unresolved: Issue was not resolved\n",
      "  - resolved: Issue was successfully resolved\n"
     ]
    }
   ],
   "execution_count": 4
  },
  {
   "metadata": {},
   "cell_type": "markdown",
   "source": "## Create Models and Vector Store",
   "id": "cb1e1de9817811a4"
  },
  {
   "metadata": {
    "ExecuteTime": {
     "end_time": "2025-07-24T09:34:03.246643Z",
     "start_time": "2025-07-24T09:33:56.500080Z"
    }
   },
   "cell_type": "code",
   "source": [
    "# Setup models\n",
    "chat_model = ChatOpenAI(model=\"gpt-4o\", temperature=0.7)\n",
    "embeddings = OpenAIEmbeddings(model=\"text-embedding-3-small\")\n",
    "\n",
    "# Create in-memory vector store\n",
    "documents = conversations_to_langchain_documents(conversations)\n",
    "vector_store = InMemoryVectorStore.from_documents(documents, embeddings)\n",
    "\n",
    "print(f\"✓ Created vector store with {len(documents)} documents\")"
   ],
   "id": "82d6540e219aa9e3",
   "outputs": [
    {
     "name": "stdout",
     "output_type": "stream",
     "text": [
      "✓ Created vector store with 876 documents\n"
     ]
    }
   ],
   "execution_count": 5
  },
  {
   "metadata": {},
   "cell_type": "markdown",
   "source": "## Run Simulation",
   "id": "6b1163d793a32dd1"
  },
  {
   "metadata": {
    "ExecuteTime": {
     "end_time": "2025-07-24T09:35:08.355476Z",
     "start_time": "2025-07-24T09:34:03.253413Z"
    }
   },
   "cell_type": "code",
   "source": [
    "# Build and run simulation session\n",
    "session = SimulationSessionBuilder(\n",
    "    default_chat_model=chat_model,\n",
    "    outcomes=outcomes,\n",
    "    vector_store=vector_store,\n",
    "    max_messages=10\n",
    ").build()\n",
    "\n",
    "# Run simulation with first 5 conversations as starting points\n",
    "base_conversations = conversations[:5]\n",
    "result = await session.run_simulation(real_conversations=base_conversations)\n",
    "\n",
    "print(\"✓ Simulation completed!\")"
   ],
   "id": "df07e6e3c02dc028",
   "outputs": [
    {
     "name": "stderr",
     "output_type": "stream",
     "text": [
      "2025-07-24 12:34:03,254 - Starting intent extraction on 5 conversations\n",
      "2025-07-24 12:34:07,589 - Finished extracting original intents; generated 5 scenarios\n",
      "2025-07-24 12:34:07,590 - Starting conversation simulations (self.max_concurrent_conversations=20)\n",
      "2025-07-24 12:34:12,594 - Progress: 0/5 scenarios completed\n",
      "2025-07-24 12:34:42,600 - Progress: 1/5 scenarios completed\n",
      "2025-07-24 12:34:52,603 - Progress: 2/5 scenarios completed\n",
      "2025-07-24 12:34:57,605 - Progress: 4/5 scenarios completed\n",
      "2025-07-24 12:35:02,608 - Progress: 5/5 scenarios completed\n",
      "2025-07-24 12:35:02,610 - Finished simulating conversations; simulated 5 conversations, with 0 failures\n",
      "2025-07-24 12:35:02,611 - Starting analysis of simulation results\n",
      "2025-07-24 12:35:08,353 - Finished analyzing results\n"
     ]
    },
    {
     "name": "stdout",
     "output_type": "stream",
     "text": [
      "✓ Simulation completed!\n"
     ]
    }
   ],
   "execution_count": 6
  },
  {
   "metadata": {},
   "cell_type": "markdown",
   "source": "## Analyze Results",
   "id": "7612a20be8965270"
  },
  {
   "metadata": {
    "ExecuteTime": {
     "end_time": "2025-07-24T09:35:08.385304Z",
     "start_time": "2025-07-24T09:35:08.383388Z"
    }
   },
   "cell_type": "code",
   "source": "print(result.generate_summary())",
   "id": "bbc250873b2ec9d6",
   "outputs": [
    {
     "name": "stdout",
     "output_type": "stream",
     "text": [
      "========================================\n",
      "SIMULATION RESULTS\n",
      "========================================\n",
      "Session name: Simulation Session\n",
      "Original conversations: 5\n",
      "Simulated conversations: 5\n",
      "\n",
      "Average messages per conversation:\n",
      "  Original: 15.6\n",
      "  Simulated: 9.4\n",
      "\n",
      "Outcome distribution comparison:\n",
      "Outcome              Original        Simulated      \n",
      "--------------------------------------------------\n",
      "resolved               1 (20.0%)     0 ( 0.0%)\n",
      "unresolved             4 (80.0%)     5 (100.0%)\n",
      "\n",
      "Sample conversation (10 messages):\n",
      "  1. agent: Thank you for calling PC Support, how can I help you today?\n",
      "  2. customer: I'm having issues with my internet connection; it keeps dropping intermittently.\n",
      "  3. agent: I'm sorry to hear that you're having connection issues. Let's start by checking if your internet con...\n",
      "  4. customer: I'll run a speed test now and let you know the results.\n",
      "  ... and 6 more messages\n",
      "========================================\n"
     ]
    }
   ],
   "execution_count": 7
  },
  {
   "metadata": {},
   "cell_type": "markdown",
   "source": [
    "## Next Steps\n",
    "\n",
    "Now that you've completed a basic simulation:\n",
    "\n",
    "  1. **Use your own data**: Load your own conversations as a list of `Conversation`\n",
    "  objects and use them to set up the simulation.\n",
    "  2. **Production features**: See `persistent_storage_example.ipynb` for persistent\n",
    "  storage with Chroma and advanced configurations suitable for larger datasets and\n",
    "  production use.\n",
    "  3. **Explore advanced features**: Check out the full documentation for more options\n",
    "  like caching of LLM responses, LLM failures handling, and more.\n",
    "\n",
    "  ### Resources:\n",
    "  - [Full documentation](https://github.com/SparkBeyond/agentune/blob/main/agentune_simulate/README.md)\n",
    "  - [Complete examples](https://github.com/SparkBeyond/agentune/tree/main/agentune_simulate/examples)\n",
    "  - [Persistent storage example](https://github.com/SparkBeyond/agentune/tree/main/agentune_simulate/examples/persistent_storage_example.ipynb)\n",
    "  - [Streamlit web interface](https://github.com/SparkBeyond/agentune/blob/main/agentune_simulate/streamlit/README.md)"
   ],
   "id": "6adea4e078c54658"
  },
  {
   "metadata": {},
   "cell_type": "code",
   "outputs": [],
   "execution_count": null,
   "source": "",
   "id": "76af0307231433b8"
  }
 ],
 "metadata": {
  "kernelspec": {
   "display_name": "Python 3 (ipykernel)",
   "language": "python",
   "name": "python3"
  },
  "language_info": {
   "codemirror_mode": {
    "name": "ipython",
    "version": 3
   },
   "file_extension": ".py",
   "mimetype": "text/x-python",
   "name": "python",
   "nbconvert_exporter": "python",
   "pygments_lexer": "ipython3",
   "version": "3.12.6"
  }
 },
 "nbformat": 4,
 "nbformat_minor": 5
}
