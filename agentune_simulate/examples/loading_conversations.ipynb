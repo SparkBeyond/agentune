{
 "cells": [
  {
   "cell_type": "markdown",
   "id": "f2bd47083f2a3166",
   "metadata": {},
   "source": [
    "## Loading Conversations from DataFrames\n",
    "\n",
    "In some cases, conversation data might be available in DataFrames rather than JSON. \n",
    "For example, you might have a DataFrame for messages and another for outcomes.\n",
    "This section demonstrates how to create Conversation objects from these separate DataFrames."
   ]
  },
  {
   "cell_type": "markdown",
   "id": "c46c19562334f5b",
   "metadata": {},
   "source": "## Setup and Imports"
  },
  {
   "cell_type": "code",
   "execution_count": 1,
   "id": "de8b2ef74acf3b90",
   "metadata": {
    "ExecuteTime": {
     "end_time": "2025-07-23T07:20:39.789891Z",
     "start_time": "2025-07-23T07:20:37.034378Z"
    }
   },
   "outputs": [],
   "source": [
    "# Import necessary libraries\n",
    "import pandas as pd\n",
    "\n",
    "# Import Agentune simulate components\n",
    "from agentune.simulate.models import Conversation, Message, Outcome, ParticipantRole"
   ]
  },
  {
   "cell_type": "markdown",
   "id": "25559dd56eb5ea6b",
   "metadata": {},
   "source": [
    "## Create Sample Conversation Data\n",
    "\n",
    "First, let's create a fabricated sample dataset that mimics the structure of real conversation data."
   ]
  },
  {
   "cell_type": "code",
   "execution_count": 2,
   "id": "e7eb6ab7e40c513c",
   "metadata": {
    "ExecuteTime": {
     "end_time": "2025-07-23T07:20:40.794988Z",
     "start_time": "2025-07-23T07:20:40.790312Z"
    }
   },
   "outputs": [],
   "source": [
    "# Create sample DataFrames that might come from a database or CSV files\n",
    "# First, let's create a DataFrame for messages\n",
    "messages_df = pd.DataFrame([\n",
    "    {'conversation_id': 'conv_001', 'sender': 'customer', 'content': 'I received a damaged product and need a replacement', 'timestamp': '2024-05-10T09:15:00.000000'},\n",
    "    {'conversation_id': 'conv_001', 'sender': 'agent', 'content': 'I apologize for the inconvenience. We can arrange a replacement right away.', 'timestamp': '2024-05-10T09:17:30.000000'},\n",
    "    {'conversation_id': 'conv_001', 'sender': 'customer', 'content': 'Please do, and I expect a refund on the delivery fee as well.', 'timestamp': '2024-05-10T09:21:05.000000'},\n",
    "    {'conversation_id': 'conv_002', 'sender': 'customer', 'content': 'Is your warranty transferable if I sell the product?', 'timestamp': '2024-05-15T14:35:22.000000'},\n",
    "    {'conversation_id': 'conv_002', 'sender': 'agent', 'content': 'Yes, our warranty stays with the product for the full term regardless of ownership changes.', 'timestamp': '2024-05-15T14:38:45.000000'},\n",
    "    {'conversation_id': 'conv_002', 'sender': 'customer', 'content': 'No, that\\'s all. Thanks again!', 'timestamp': '2024-05-15T14:42:20.000000'}\n",
    "])\n",
    "\n",
    "# Now, let's create a DataFrame for outcomes\n",
    "outcomes_df = pd.DataFrame([\n",
    "    {'conversation_id': 'conv_001', 'name': 'resolved', 'description': 'Issue was successfully resolved'},\n",
    "    {'conversation_id': 'conv_002', 'name': 'unresolved', 'description': 'Issue was not resolved'}\n",
    "])"
   ]
  },
  {
   "cell_type": "markdown",
   "id": "b562c63f51400c78",
   "metadata": {},
   "source": "### Display the DataFrames"
  },
  {
   "cell_type": "code",
   "execution_count": 3,
   "id": "a09f03f65492f308",
   "metadata": {
    "ExecuteTime": {
     "end_time": "2025-07-23T07:20:42.075055Z",
     "start_time": "2025-07-23T07:20:42.063256Z"
    }
   },
   "outputs": [
    {
     "name": "stdout",
     "output_type": "stream",
     "text": [
      "Messages DataFrame:\n"
     ]
    },
    {
     "data": {
      "text/html": [
       "<div>\n",
       "<style scoped>\n",
       "    .dataframe tbody tr th:only-of-type {\n",
       "        vertical-align: middle;\n",
       "    }\n",
       "\n",
       "    .dataframe tbody tr th {\n",
       "        vertical-align: top;\n",
       "    }\n",
       "\n",
       "    .dataframe thead th {\n",
       "        text-align: right;\n",
       "    }\n",
       "</style>\n",
       "<table border=\"1\" class=\"dataframe\">\n",
       "  <thead>\n",
       "    <tr style=\"text-align: right;\">\n",
       "      <th></th>\n",
       "      <th>conversation_id</th>\n",
       "      <th>sender</th>\n",
       "      <th>content</th>\n",
       "      <th>timestamp</th>\n",
       "    </tr>\n",
       "  </thead>\n",
       "  <tbody>\n",
       "    <tr>\n",
       "      <th>0</th>\n",
       "      <td>conv_001</td>\n",
       "      <td>customer</td>\n",
       "      <td>I received a damaged product and need a replac...</td>\n",
       "      <td>2024-05-10T09:15:00.000000</td>\n",
       "    </tr>\n",
       "    <tr>\n",
       "      <th>1</th>\n",
       "      <td>conv_001</td>\n",
       "      <td>agent</td>\n",
       "      <td>I apologize for the inconvenience. We can arra...</td>\n",
       "      <td>2024-05-10T09:17:30.000000</td>\n",
       "    </tr>\n",
       "    <tr>\n",
       "      <th>2</th>\n",
       "      <td>conv_001</td>\n",
       "      <td>customer</td>\n",
       "      <td>Please do, and I expect a refund on the delive...</td>\n",
       "      <td>2024-05-10T09:21:05.000000</td>\n",
       "    </tr>\n",
       "    <tr>\n",
       "      <th>3</th>\n",
       "      <td>conv_002</td>\n",
       "      <td>customer</td>\n",
       "      <td>Is your warranty transferable if I sell the pr...</td>\n",
       "      <td>2024-05-15T14:35:22.000000</td>\n",
       "    </tr>\n",
       "    <tr>\n",
       "      <th>4</th>\n",
       "      <td>conv_002</td>\n",
       "      <td>agent</td>\n",
       "      <td>Yes, our warranty stays with the product for t...</td>\n",
       "      <td>2024-05-15T14:38:45.000000</td>\n",
       "    </tr>\n",
       "  </tbody>\n",
       "</table>\n",
       "</div>"
      ],
      "text/plain": [
       "  conversation_id    sender  \\\n",
       "0        conv_001  customer   \n",
       "1        conv_001     agent   \n",
       "2        conv_001  customer   \n",
       "3        conv_002  customer   \n",
       "4        conv_002     agent   \n",
       "\n",
       "                                             content  \\\n",
       "0  I received a damaged product and need a replac...   \n",
       "1  I apologize for the inconvenience. We can arra...   \n",
       "2  Please do, and I expect a refund on the delive...   \n",
       "3  Is your warranty transferable if I sell the pr...   \n",
       "4  Yes, our warranty stays with the product for t...   \n",
       "\n",
       "                    timestamp  \n",
       "0  2024-05-10T09:15:00.000000  \n",
       "1  2024-05-10T09:17:30.000000  \n",
       "2  2024-05-10T09:21:05.000000  \n",
       "3  2024-05-15T14:35:22.000000  \n",
       "4  2024-05-15T14:38:45.000000  "
      ]
     },
     "execution_count": 3,
     "metadata": {},
     "output_type": "execute_result"
    }
   ],
   "source": [
    "# Display the DataFrames\n",
    "print(\"Messages DataFrame:\")\n",
    "messages_df.head()"
   ]
  },
  {
   "cell_type": "code",
   "execution_count": 4,
   "id": "49f887740e4d53f",
   "metadata": {
    "ExecuteTime": {
     "end_time": "2025-07-23T07:20:43.143540Z",
     "start_time": "2025-07-23T07:20:43.140615Z"
    }
   },
   "outputs": [
    {
     "name": "stdout",
     "output_type": "stream",
     "text": [
      "Outcomes DataFrame:\n"
     ]
    },
    {
     "data": {
      "text/html": [
       "<div>\n",
       "<style scoped>\n",
       "    .dataframe tbody tr th:only-of-type {\n",
       "        vertical-align: middle;\n",
       "    }\n",
       "\n",
       "    .dataframe tbody tr th {\n",
       "        vertical-align: top;\n",
       "    }\n",
       "\n",
       "    .dataframe thead th {\n",
       "        text-align: right;\n",
       "    }\n",
       "</style>\n",
       "<table border=\"1\" class=\"dataframe\">\n",
       "  <thead>\n",
       "    <tr style=\"text-align: right;\">\n",
       "      <th></th>\n",
       "      <th>conversation_id</th>\n",
       "      <th>name</th>\n",
       "      <th>description</th>\n",
       "    </tr>\n",
       "  </thead>\n",
       "  <tbody>\n",
       "    <tr>\n",
       "      <th>0</th>\n",
       "      <td>conv_001</td>\n",
       "      <td>resolved</td>\n",
       "      <td>Issue was successfully resolved</td>\n",
       "    </tr>\n",
       "    <tr>\n",
       "      <th>1</th>\n",
       "      <td>conv_002</td>\n",
       "      <td>unresolved</td>\n",
       "      <td>Issue was not resolved</td>\n",
       "    </tr>\n",
       "  </tbody>\n",
       "</table>\n",
       "</div>"
      ],
      "text/plain": [
       "  conversation_id        name                      description\n",
       "0        conv_001    resolved  Issue was successfully resolved\n",
       "1        conv_002  unresolved           Issue was not resolved"
      ]
     },
     "execution_count": 4,
     "metadata": {},
     "output_type": "execute_result"
    }
   ],
   "source": [
    "print(\"Outcomes DataFrame:\")\n",
    "outcomes_df.head()"
   ]
  },
  {
   "cell_type": "markdown",
   "id": "673e17d99d66ace8",
   "metadata": {},
   "source": "### Functions for Loading and Processing Conversation Data"
  },
  {
   "cell_type": "code",
   "execution_count": 5,
   "id": "3a1a29ab971003f1",
   "metadata": {
    "ExecuteTime": {
     "end_time": "2025-07-23T07:20:44.221945Z",
     "start_time": "2025-07-23T07:20:44.216380Z"
    }
   },
   "outputs": [],
   "source": [
    "def create_conversations_from_dataframes(\n",
    "    messages_df: pd.DataFrame,\n",
    "    outcomes_df: pd.DataFrame\n",
    ") -> list[Conversation]:\n",
    "    \"\"\"\n",
    "    Convert message and outcome DataFrames into Conversation objects.\n",
    "    Simplified version using patterns from utils.py\n",
    "    \"\"\"\n",
    "    conversations = []\n",
    "\n",
    "    # Group by conversation_id, similar to load_conversations_from_csv\n",
    "    for conv_id, group in messages_df.groupby('conversation_id'):\n",
    "        # Sort by timestamp to ensure message order\n",
    "        group = group.sort_values('timestamp')\n",
    "\n",
    "        # Create messages using the same logic as utils.py\n",
    "        messages = []\n",
    "        for _, row in group.iterrows():\n",
    "            # Reuse the sender conversion logic from utils.py\n",
    "            sender = ParticipantRole.CUSTOMER if row['sender'].lower() == 'customer' else ParticipantRole.AGENT\n",
    "\n",
    "            message = Message(\n",
    "                sender=sender,\n",
    "                content=str(row['content']),\n",
    "                timestamp=pd.to_datetime(row['timestamp']).to_pydatetime()\n",
    "            )\n",
    "            messages.append(message)\n",
    "\n",
    "        # Get outcome for this conversation\n",
    "        outcome_row = outcomes_df[outcomes_df['conversation_id'] == conv_id]\n",
    "        outcome = None\n",
    "        if not outcome_row.empty:\n",
    "            first_outcome = outcome_row.iloc[0]\n",
    "            outcome = Outcome(\n",
    "                name=str(first_outcome['name']),\n",
    "                description=str(first_outcome['description'])\n",
    "            )\n",
    "\n",
    "        # Create conversation\n",
    "        conversation = Conversation(\n",
    "            messages=tuple(messages),\n",
    "            outcome=outcome\n",
    "        )\n",
    "        conversations.append(conversation)\n",
    "    \n",
    "    return conversations"
   ]
  },
  {
   "cell_type": "markdown",
   "id": "e5604e0feb0564b3",
   "metadata": {},
   "source": "## Generate and Save Sample Data"
  },
  {
   "cell_type": "code",
   "execution_count": 6,
   "id": "81c0d9b2dd1918f3",
   "metadata": {
    "ExecuteTime": {
     "end_time": "2025-07-23T07:20:47.074902Z",
     "start_time": "2025-07-23T07:20:47.066741Z"
    }
   },
   "outputs": [
    {
     "name": "stdout",
     "output_type": "stream",
     "text": [
      "Created 2 conversations from DataFrames\n"
     ]
    }
   ],
   "source": [
    "# Convert the DataFrames to Conversation objects\n",
    "conversations = create_conversations_from_dataframes(messages_df, outcomes_df)\n",
    "\n",
    "# Display the resulting DataFrame\n",
    "print(f\"Created {len(conversations)} conversations from DataFrames\")"
   ]
  },
  {
   "cell_type": "code",
   "execution_count": null,
   "id": "591b89043c0b2c76",
   "metadata": {},
   "outputs": [],
   "source": [
    "# Now with the conversations in the right format, we can load them into a vector store and run simulations"
   ]
  }
 ],
 "metadata": {},
 "nbformat": 4,
 "nbformat_minor": 5
}
