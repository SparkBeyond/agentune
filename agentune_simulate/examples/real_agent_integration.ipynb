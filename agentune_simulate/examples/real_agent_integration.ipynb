{
 "cells": [
  {
   "cell_type": "markdown",
   "metadata": {},
   "source": [
    "# Real Agent Integration with Agentune Simulate\n",
    "\n",
    "This notebook demonstrates how to integrate a real agent system with the Agentune Simulate library. You'll learn to:\n",
    "\n",
    "- Implement a custom agent by extending the `Agent` interface\n",
    "- Integrate your custom agent with the simulation framework\n",
    "- Run simulations with real agents and simulated customers\n",
    "\n",
    "## Use Case: Real Agent + Simulated Customer\n",
    "\n",
    "This pattern is useful for:\n",
    "- Testing your actual agent system against various customer scenarios\n",
    "- Evaluating agent performance without human customers\n",
    "- A/B testing between different agent implementations\n",
    "- Stress testing your agent with diverse conversation patterns"
   ]
  },
  {
   "cell_type": "markdown",
   "metadata": {},
   "source": [
    "## Setup and Imports"
   ]
  },
  {
   "cell_type": "code",
   "metadata": {
    "ExecuteTime": {
     "end_time": "2025-07-25T06:08:50.971468Z",
     "start_time": "2025-07-25T06:08:47.777331Z"
    }
   },
   "source": [
    "import os\n",
    "import getpass\n",
    "from datetime import datetime\n",
    "\n",
    "from langchain_core.vectorstores import InMemoryVectorStore\n",
    "from langchain_openai import ChatOpenAI, OpenAIEmbeddings\n",
    "\n",
    "from agentune.simulate.models import Conversation, Message, Outcomes\n",
    "from agentune.simulate.participants.agent.real import RealAgent, RealAgentFactory\n",
    "from agentune.simulate.rag import conversations_to_langchain_documents\n",
    "from agentune.simulate.simulation.session_builder import SimulationSessionBuilder\n",
    "from utils import setup_logging_and_asyncio, load_data_with_outcomes"
   ],
   "outputs": [],
   "execution_count": 1
  },
  {
   "cell_type": "markdown",
   "metadata": {},
   "source": [
    "## API Key Configuration"
   ]
  },
  {
   "cell_type": "code",
   "metadata": {
    "ExecuteTime": {
     "end_time": "2025-07-25T06:08:53.594525Z",
     "start_time": "2025-07-25T06:08:51.532679Z"
    }
   },
   "source": [
    "# Set up OpenAI API key\n",
    "if not os.getenv(\"OPENAI_API_KEY\"):\n",
    "    os.environ[\"OPENAI_API_KEY\"] = getpass.getpass(\"Enter your OpenAI API key: \")\n",
    "\n",
    "print(\"✓ API key configured\")"
   ],
   "outputs": [
    {
     "name": "stdout",
     "output_type": "stream",
     "text": [
      "✓ API key configured\n"
     ]
    }
   ],
   "execution_count": 2
  },
  {
   "cell_type": "markdown",
   "metadata": {},
   "source": [
    "## Environment Setup"
   ]
  },
  {
   "cell_type": "code",
   "metadata": {
    "ExecuteTime": {
     "end_time": "2025-07-25T06:08:53.617107Z",
     "start_time": "2025-07-25T06:08:53.614734Z"
    }
   },
   "source": [
    "# Configure logging and asyncio for Jupyter\n",
    "setup_logging_and_asyncio()"
   ],
   "outputs": [
    {
     "name": "stdout",
     "output_type": "stream",
     "text": [
      "✓ Logging configured\n",
      "✓ Asyncio event loop configured for Jupyter\n"
     ]
    }
   ],
   "execution_count": 3
  },
  {
   "cell_type": "markdown",
   "metadata": {},
   "source": [
    "## Load Data and Extract Outcomes"
   ]
  },
  {
   "cell_type": "code",
   "metadata": {
    "ExecuteTime": {
     "end_time": "2025-07-25T06:08:53.768845Z",
     "start_time": "2025-07-25T06:08:53.624100Z"
    }
   },
   "source": [
    "# Load conversations and extract outcomes in one step\n",
    "conversations, outcomes_tuple = load_data_with_outcomes(\"data/sample_conversations.csv\")\n",
    "outcomes = Outcomes(outcomes=outcomes_tuple)"
   ],
   "outputs": [
    {
     "name": "stdout",
     "output_type": "stream",
     "text": [
      "Loading conversations from data/sample_conversations.csv...\n",
      "✓ Loaded 47 conversations\n",
      "✓ Sample conversation has 16 messages\n",
      "✓ Extracted 2 unique outcomes\n",
      "  - unresolved: Issue was not resolved\n",
      "  - resolved: Issue was successfully resolved\n"
     ]
    }
   ],
   "execution_count": 4
  },
  {
   "cell_type": "markdown",
   "metadata": {},
   "source": [
    "## Create Models and Vector Store"
   ]
  },
  {
   "cell_type": "code",
   "metadata": {
    "ExecuteTime": {
     "end_time": "2025-07-25T06:09:02.739408Z",
     "start_time": "2025-07-25T06:08:54.121668Z"
    }
   },
   "source": [
    "# Setup models and vector store for the simulated customer\n",
    "chat_model = ChatOpenAI(model=\"gpt-4o\", temperature=0.7)\n",
    "embeddings = OpenAIEmbeddings(model=\"text-embedding-3-small\")\n",
    "documents = conversations_to_langchain_documents(conversations)\n",
    "vector_store = InMemoryVectorStore.from_documents(documents, embeddings)\n",
    "\n",
    "print(f\"✓ Loaded {len(conversations)} conversations with vector store\")"
   ],
   "outputs": [
    {
     "name": "stdout",
     "output_type": "stream",
     "text": [
      "✓ Loaded 47 conversations with vector store\n"
     ]
    }
   ],
   "execution_count": 5
  },
  {
   "cell_type": "markdown",
   "metadata": {},
   "source": [
    "## Custom Real Agent Implementation\n",
    "\n",
    "Here we'll create a `MockRealAgent` that simulates calling an external agent system. In practice, this would make HTTP requests, call APIs, or interface with your actual agent platform.\n",
    "\n",
    "**Important:** Real agents inherit from `RealAgent` instead of `Agent` directly. This provides a sensible default implementation of the `with_intent` method that real agents don't need, creating a cleaner interface for external agent integrations."
   ]
  },
  {
   "cell_type": "code",
   "metadata": {
    "ExecuteTime": {
     "end_time": "2025-07-25T06:09:02.748700Z",
     "start_time": "2025-07-25T06:09:02.746349Z"
    }
   },
   "source": [
    "class MockRealAgent(RealAgent):\n",
    "    \"\"\"A minimal real agent that simulates external agent system integration.\"\"\"\n",
    "\n",
    "    def __init__(self):\n",
    "        self._messages = [\n",
    "            \"Hello! How can I help you today?\",\n",
    "            \"I understand your concern. Let me help you with that issue.\",\n",
    "            \"Thank you for contacting us. Have a great day!\"\n",
    "        ]\n",
    "        self._count = 0\n",
    "\n",
    "    async def get_next_message(self, conversation: Conversation) -> Message | None:\n",
    "        \"\"\"Generate agent response - replace this with your actual agent API call.\"\"\"\n",
    "\n",
    "        if self._count >= len(self._messages):\n",
    "            return None  # No more responses. None indicates the agent is not responding.\n",
    "\n",
    "        agent_response = self._messages[self._count]\n",
    "        self._count += 1\n",
    "\n",
    "        return Message(\n",
    "            sender=self.role,\n",
    "            content=agent_response,\n",
    "            timestamp=datetime.now()\n",
    "        )\n",
    "\n",
    "print(\"✓ MockRealAgent class implemented\")"
   ],
   "outputs": [
    {
     "name": "stdout",
     "output_type": "stream",
     "text": [
      "✓ MockRealAgent class implemented\n"
     ]
    }
   ],
   "execution_count": 6
  },
  {
   "cell_type": "code",
   "metadata": {
    "ExecuteTime": {
     "end_time": "2025-07-25T06:09:02.762718Z",
     "start_time": "2025-07-25T06:09:02.761222Z"
    }
   },
   "source": [
    "# Create a factory for our real agent\n",
    "class MockRealAgentFactory(RealAgentFactory):\n",
    "    \"\"\"Factory for creating MockRealAgent instances.\"\"\"\n",
    "\n",
    "    def create_participant(self) -> RealAgent:\n",
    "        return MockRealAgent()"
   ],
   "outputs": [],
   "execution_count": 7
  },
  {
   "cell_type": "markdown",
   "metadata": {},
   "source": [
    "## Simulation Session with Real Agent"
   ]
  },
  {
   "cell_type": "code",
   "metadata": {
    "ExecuteTime": {
     "end_time": "2025-07-25T06:09:05.241464Z",
     "start_time": "2025-07-25T06:09:05.237119Z"
    }
   },
   "source": [
    "# Create simulation session with real agent + simulated customer\n",
    "real_agent_factory = MockRealAgentFactory()\n",
    "\n",
    "session = SimulationSessionBuilder(\n",
    "    default_chat_model=chat_model,\n",
    "    outcomes=outcomes,\n",
    "    vector_store=vector_store,\n",
    "    max_messages=10\n",
    ").with_agent_factory(real_agent_factory).build()\n",
    "\n",
    "print(\"✓ Simulation session created with real agent\")"
   ],
   "outputs": [
    {
     "name": "stdout",
     "output_type": "stream",
     "text": [
      "✓ Simulation session created with real agent\n"
     ]
    }
   ],
   "execution_count": 8
  },
  {
   "cell_type": "code",
   "metadata": {
    "scrolled": true,
    "ExecuteTime": {
     "end_time": "2025-07-25T06:09:56.978632Z",
     "start_time": "2025-07-25T06:09:06.806130Z"
    }
   },
   "source": [
    "# Run simulation with real agent\n",
    "base_conversations = conversations[:3]  # Use first 3 conversations as scenarios\n",
    "result = await session.run_simulation(real_conversations=base_conversations)\n",
    "\n",
    "print(\"✓ Real agent simulation completed!\")\n",
    "print(f\"Tested on {len(result.simulated_conversations)} conversations\")"
   ],
   "outputs": [
    {
     "name": "stderr",
     "output_type": "stream",
     "text": [
      "2025-07-25 09:09:06,807 - Starting intent extraction on 3 conversations\n",
      "2025-07-25 09:09:11,139 - Finished extracting original intents; generated 3 scenarios\n",
      "2025-07-25 09:09:11,139 - Starting conversation simulations (self.max_concurrent_conversations=20)\n",
      "2025-07-25 09:09:16,140 - Progress: 0/3 scenarios completed\n",
      "2025-07-25 09:09:36,146 - Progress: 1/3 scenarios completed\n",
      "2025-07-25 09:09:46,150 - Progress: 2/3 scenarios completed\n",
      "2025-07-25 09:09:51,152 - Progress: 3/3 scenarios completed\n",
      "2025-07-25 09:09:51,154 - Finished simulating conversations; simulated 3 conversations, with 0 failures\n",
      "2025-07-25 09:09:51,155 - Starting analysis of simulation results\n",
      "2025-07-25 09:09:56,976 - Finished analyzing results\n"
     ]
    },
    {
     "name": "stdout",
     "output_type": "stream",
     "text": [
      "✓ Real agent simulation completed!\n",
      "Tested on 3 conversations\n"
     ]
    }
   ],
   "execution_count": 9
  },
  {
   "cell_type": "markdown",
   "metadata": {},
   "source": [
    "## Analyze Results"
   ]
  },
  {
   "cell_type": "code",
   "metadata": {
    "ExecuteTime": {
     "end_time": "2025-07-25T06:09:56.993329Z",
     "start_time": "2025-07-25T06:09:56.990988Z"
    }
   },
   "source": [
    "print(result.generate_summary())"
   ],
   "outputs": [
    {
     "name": "stdout",
     "output_type": "stream",
     "text": [
      "========================================\n",
      "SIMULATION RESULTS\n",
      "========================================\n",
      "Session name: Simulation Session\n",
      "Original conversations: 3\n",
      "Simulated conversations: 3\n",
      "\n",
      "Average messages per conversation:\n",
      "  Original: 16.7\n",
      "  Simulated: 7.3\n",
      "\n",
      "Outcome distribution comparison:\n",
      "Outcome              Original        Simulated      \n",
      "--------------------------------------------------\n",
      "resolved               1 (33.3%)     0 ( 0.0%)\n",
      "unresolved             2 (66.7%)     2 (66.7%)\n",
      "No outcome             0 ( 0.0%)     1 (33.3%)\n",
      "\n",
      "Sample conversation (6 messages):\n",
      "  1. agent: Thank you for calling PC Support, how can I help you today?\n",
      "  2. customer: My computer keeps shutting down randomly, and I'm not sure why. Can you help me figure out what's go...\n",
      "  3. agent: Hello! How can I help you today?\n",
      "  4. customer: I mentioned earlier that my computer keeps shutting down randomly. Can you help me figure out why th...\n",
      "  ... and 2 more messages\n",
      "========================================\n"
     ]
    }
   ],
   "execution_count": 10
  },
  {
   "cell_type": "markdown",
   "metadata": {},
   "source": [
    "## Next Steps\n",
    "\n",
    "You've successfully integrated a real agent with the Agentune Simulate framework! Here's how to extend this for your use case:\n",
    "\n",
    "### 1. **Implement Your Real Agent**\n",
    "Replace the `MockRealAgent` with your actual agent implementation:\n",
    "\n",
    "```python\n",
    "class YourRealAgent(RealAgent):\n",
    "    async def get_next_message(self, conversation: Conversation) -> Optional[Message]:\n",
    "        # Make API call to your agent system\n",
    "        response = await your_agent_api.get_response(conversation)\n",
    "        return Message(sender=\"agent\", content=response, timestamp=datetime.now())\n",
    "```\n",
    "\n",
    "### 2. **Use Your Own Data**\n",
    "Load your own conversations as a list of `Conversation` objects and use them to set up the simulation. Convert your data format to the required structure using utility functions similar to those in `utils.py`.\n",
    "\n",
    "### 3. **Testing and Validation**\n",
    "- Use this framework to test your agent against diverse scenarios\n",
    "- Compare performance metrics between different agent versions\n",
    "\n",
    "### 4. **Production Deployment**\n",
    "- Scale simulations with concurrent conversation limits\n",
    "- Implement caching to lower the number of requests to LLM (simulated customer)\n",
    "- Monitor agent response patterns and quality metrics\n",
    "- Set up automated testing pipelines for continuous validation\n",
    "\n",
    "### 6. **Explore Advanced Features**\n",
    "Check out the full documentation for more options including:\n",
    "- Caching of LLM responses for cost efficiency\n",
    "- LLM failure handling and fallback mechanisms\n",
    "\n",
    "\n",
    "### Resources:\n",
    "- [Full Documentation](https://github.com/SparkBeyond/agentune/blob/main/agentune_simulate/README.md)\n",
    "- [Complete Examples](https://github.com/SparkBeyond/agentune/tree/main/agentune_simulate/examples)\n",
    "- [Persistent Storage Example](./persistent_storage_example.ipynb) - Full simulation flow, recommended to run before the real agent flow, to benchmark the simulation quality\n",
    "- [Advanced caching and error handling](https://github.com/SparkBeyond/agentune/tree/main/agentune_simulate/docs/langchain.md)\n",
    "- [Streamlit Web Interface](https://github.com/SparkBeyond/agentune/blob/main/agentune_simulate/streamlit/README.md) - Visual simulation runner and analyzer"
   ]
  },
  {
   "cell_type": "code",
   "metadata": {},
   "source": [],
   "outputs": [],
   "execution_count": null
  }
 ],
 "metadata": {
  "kernelspec": {
   "display_name": "Python 3 (ipykernel)",
   "language": "python",
   "name": "python3"
  },
  "language_info": {
   "codemirror_mode": {
    "name": "ipython",
    "version": 3
   },
   "file_extension": ".py",
   "mimetype": "text/x-python",
   "name": "python",
   "nbconvert_exporter": "python",
   "pygments_lexer": "ipython3",
   "version": "3.12.6"
  }
 },
 "nbformat": 4,
 "nbformat_minor": 4
}
