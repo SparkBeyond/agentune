{
 "cells": [
  {
   "cell_type": "markdown",
   "metadata": {},
   "source": [
    "# Real Agent Integration with Agentune Simulate\n",
    "\n",
    "This notebook demonstrates how to integrate a real agent system with the Agentune Simulate library. You'll learn to:\n",
    "\n",
    "- Implement a custom agent by extending the `Agent` interface\n",
    "- Integrate your custom agent with the simulation framework\n",
    "- Run simulations with real agents and simulated customers\n",
    "- Compare results between real and simulated agents\n",
    "\n",
    "## Use Case: Real Agent + Simulated Customer\n",
    "\n",
    "This pattern is useful for:\n",
    "- Testing your actual agent system against various customer scenarios\n",
    "- Evaluating agent performance without human customers\n",
    "- A/B testing between different agent implementations\n",
    "- Stress testing your agent with diverse conversation patterns"
   ]
  },
  {
   "cell_type": "markdown",
   "metadata": {},
   "source": [
    "## Part 1: Setup and Imports"
   ]
  },
  {
   "cell_type": "code",
   "execution_count": null,
   "metadata": {},
   "outputs": [],
   "source": [
    "import os\n",
    "import getpass\n",
    "import asyncio\n",
    "from typing import Optional, override\n",
    "from datetime import datetime\n",
    "\n",
    "from langchain_core.vectorstores import InMemoryVectorStore\n",
    "from langchain_openai import ChatOpenAI, OpenAIEmbeddings\n",
    "\n",
    "from agentune.simulate.models import Conversation, Message, Outcomes\n",
    "from agentune.simulate.participants.agent.base import Agent\n",
    "from agentune.simulate.participants.factories.base import AgentFactory\n",
    "from agentune.simulate.rag import conversations_to_langchain_documents\n",
    "from agentune.simulate.simulation.session_builder import SimulationSessionBuilder\n",
    "from utils import setup_logging_and_asyncio, load_data_with_outcomes"
   ]
  },
  {
   "cell_type": "code",
   "execution_count": null,
   "metadata": {},
   "outputs": [],
   "source": [
    "# Load sample data\n",
    "conversations, outcomes_tuple = load_data_with_outcomes(\"data/sample_conversations.csv\")\n",
    "outcomes = Outcomes(outcomes=outcomes_tuple)\n",
    "\n",
    "# Setup models and vector store for the simulated customer\n",
    "chat_model = ChatOpenAI(model=\"gpt-4o\", temperature=0.7)\n",
    "embeddings = OpenAIEmbeddings(model=\"text-embedding-3-small\")\n",
    "documents = conversations_to_langchain_documents(conversations)\n",
    "vector_store = InMemoryVectorStore.from_documents(documents, embeddings)\n",
    "\n",
    "print(f\"✓ Loaded {len(conversations)} conversations with vector store\")"
   ]
  },
  {
   "cell_type": "markdown",
   "metadata": {},
   "source": "## Part 2: Custom Real Agent Implementation\n\nHere we'll create a `MockRealAgent` that simulates calling an external agent system. In practice, this would make HTTP requests, call APIs, or interface with your actual agent platform."
  },
  {
   "metadata": {},
   "cell_type": "code",
   "outputs": [],
   "execution_count": null,
   "source": [
    "class MockRealAgent(Agent):\n",
    "    \"\"\"A minimal real agent that simulates external agent system integration.\"\"\"\n",
    "\n",
    "    def __init__(self):\n",
    "        self._messages = [\n",
    "            \"Hello! How can I help you today?\",\n",
    "            \"I understand your concern. Let me help you with that issue.\",\n",
    "            \"Thank you for contacting us. Have a great day!\"\n",
    "        ]\n",
    "        self._count = 0\n",
    "\n",
    "    async def get_next_message(self, conversation: Conversation) -> Optional[Message]:\n",
    "        \"\"\"Generate agent response - replace this with your actual agent API call.\"\"\"\n",
    "\n",
    "        if self._count >= len(self._messages):\n",
    "            return None  # No more responses. None indicates the agent is not responding.\n",
    "\n",
    "        agent_response = self._messages[self._count]\n",
    "        self._count += 1\n",
    "\n",
    "        return Message(\n",
    "            sender=self.role,\n",
    "            content=agent_response,\n",
    "            timestamp=datetime.now()\n",
    "        )\n",
    "\n",
    "print(\"✓ MockRealAgent class implemented\")"
   ]
  },
  {
   "cell_type": "code",
   "execution_count": null,
   "metadata": {},
   "outputs": [],
   "source": [
    "# Create a factory for our real agent\n",
    "class MockRealAgentFactory(AgentFactory):\n",
    "    \"\"\"Factory for creating MockRealAgent instances.\"\"\"\n",
    "\n",
    "    def create_participant(self) -> Agent:\n",
    "        return MockRealAgent()"
   ]
  },
  {
   "metadata": {},
   "cell_type": "markdown",
   "source": "## Part 3: Simulation Session with Real Agent"
  },
  {
   "cell_type": "code",
   "execution_count": null,
   "metadata": {},
   "outputs": [],
   "source": [
    "# Create simulation session with real agent + simulated customer\n",
    "real_agent_factory = MockRealAgentFactory()\n",
    "\n",
    "session = SimulationSessionBuilder(\n",
    "    default_chat_model=chat_model,\n",
    "    outcomes=outcomes,\n",
    "    vector_store=vector_store,\n",
    "    max_messages=8\n",
    ").with_agent_factory(real_agent_factory).build()\n",
    "\n",
    "print(\"✓ Simulation session created with real agent\")"
   ]
  },
  {
   "cell_type": "code",
   "execution_count": null,
   "metadata": {},
   "outputs": [],
   "source": [
    "# Run simulation with real agent\n",
    "base_conversations = conversations[:3]  # Use first 3 conversations as scenarios\n",
    "real_agent_result = await session.run_simulation(real_conversations=base_conversations)\n",
    "\n",
    "print(\"✓ Real agent simulation completed!\")\n",
    "print(f\"Simulated {len(real_agent_result.simulation_results)} conversations\")"
   ]
  },
  {
   "cell_type": "markdown",
   "metadata": {},
   "source": [
    "## Part 4: Results Analysis and Comparison\n",
    "\n",
    "Let's compare our real agent results with a standard RAG-based simulated agent."
   ]
  },
  {
   "cell_type": "code",
   "execution_count": null,
   "metadata": {},
   "outputs": [],
   "source": [
    "# Run comparison with standard RAG agent\n",
    "standard_session = SimulationSessionBuilder(\n",
    "    default_chat_model=chat_model,\n",
    "    outcomes=outcomes,\n",
    "    vector_store=vector_store,\n",
    "    max_messages=8\n",
    ").build()  # Uses default RAG-based agent\n",
    "\n",
    "standard_result = await standard_session.run_simulation(real_conversations=base_conversations)\n",
    "\n",
    "print(\"✓ Standard agent simulation completed!\")"
   ]
  },
  {
   "cell_type": "code",
   "execution_count": null,
   "metadata": {},
   "outputs": [],
   "source": [
    "# Compare results\n",
    "print(\"========================================\")\n",
    "print(\"REAL AGENT vs SIMULATED AGENT COMPARISON\")\n",
    "print(\"========================================\")\n",
    "\n",
    "print(\"\\n--- REAL AGENT RESULTS ---\")\n",
    "print(real_agent_result.generate_summary())\n",
    "\n",
    "print(\"\\n--- SIMULATED AGENT RESULTS ---\")\n",
    "print(standard_result.generate_summary())\n",
    "\n",
    "# Save results\n",
    "real_agent_result.save_to_file(\"real_agent_results.json\")\n",
    "standard_result.save_to_file(\"simulated_agent_results.json\")\n",
    "\n",
    "print(\"\\n✓ Results saved to files\")"
   ]
  },
  {
   "cell_type": "code",
   "execution_count": null,
   "metadata": {},
   "outputs": [],
   "source": [
    "# Show sample conversation with real agent\n",
    "print(\"========================================\")\n",
    "print(\"SAMPLE REAL AGENT CONVERSATION\")\n",
    "print(\"========================================\")\n",
    "\n",
    "if real_agent_result.simulation_results:\n",
    "    sample_conversation = real_agent_result.simulation_results[0].conversation\n",
    "    \n",
    "    for i, message in enumerate(sample_conversation.messages, 1):\n",
    "        print(f\"{i}. {message.sender}: {message.content[:100]}...\")\n",
    "        if i >= 6:  # Show first 6 messages\n",
    "            break\n",
    "    \n",
    "    if len(sample_conversation.messages) > 6:\n",
    "        print(f\"... and {len(sample_conversation.messages) - 6} more messages\")\n",
    "else:\n",
    "    print(\"No simulation results to display\")"
   ]
  },
  {
   "cell_type": "markdown",
   "metadata": {},
   "source": [
    "## Next Steps\n",
    "\n",
    "You've successfully integrated a real agent with the Agentune Simulate framework! Here's how to extend this for your use case:\n",
    "\n",
    "### 1. **Implement Your Real Agent**\n",
    "Replace the `MockRealAgent` with your actual agent implementation:\n",
    "\n",
    "```python\n",
    "class YourRealAgent(Agent):\n",
    "    async def get_next_message(self, conversation: Conversation) -> Optional[Message]:\n",
    "        # Make API call to your agent system\n",
    "        response = await your_agent_api.get_response(conversation)\n",
    "        return Message(sender=\"agent\", content=response, timestamp=datetime.now())\n",
    "```\n",
    "\n",
    "### 2. **Testing and Validation**\n",
    "- Use this framework to test your agent against diverse scenarios\n",
    "- Compare performance metrics between different agent versions\n",
    "- Validate agent behavior with adversarial testing\n",
    "\n",
    "### 3. **Production Considerations**\n",
    "- Monitor agent response times and success rates\n",
    "- Implement graceful degradation for agent failures\n",
    "- Scale simulations with concurrent conversation limits\n",
    "\n",
    "The framework provides a flexible foundation for integrating any agent system while maintaining compatibility with all existing simulation features."
   ]
  }
 ],
 "metadata": {
  "kernelspec": {
   "display_name": "Python 3",
   "language": "python",
   "name": "python3"
  },
  "language_info": {
   "codemirror_mode": {
    "name": "ipython",
    "version": 3
   },
   "file_extension": ".py",
   "mimetype": "text/x-python",
   "name": "python",
   "nbconvert_exporter": "python",
   "pygments_lexer": "ipython3",
   "version": "3.12.0"
  }
 },
 "nbformat": 4,
 "nbformat_minor": 4
}
